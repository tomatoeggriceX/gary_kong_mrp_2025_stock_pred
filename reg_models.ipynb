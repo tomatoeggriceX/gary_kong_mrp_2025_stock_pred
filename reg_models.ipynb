{
 "cells": [
  {
   "cell_type": "markdown",
   "id": "5c877408",
   "metadata": {},
   "source": [
    "Regression Models"
   ]
  },
  {
   "cell_type": "code",
   "execution_count": 64,
   "id": "8227e694",
   "metadata": {},
   "outputs": [],
   "source": [
    "import numpy as np\n",
    "import pandas as pd\n",
    "\n",
    "from sklearn.pipeline import Pipeline\n",
    "from sklearn.impute import SimpleImputer\n",
    "from sklearn.preprocessing import StandardScaler\n",
    "from sklearn.linear_model import Ridge\n",
    "from sklearn.ensemble import HistGradientBoostingRegressor\n",
    "from sklearn.metrics import root_mean_squared_error, mean_absolute_error, r2_score"
   ]
  },
  {
   "cell_type": "code",
   "execution_count": 65,
   "id": "9b49ed43",
   "metadata": {},
   "outputs": [],
   "source": [
    "# import classification data\n",
    "X_test = pd.read_csv('x_test_reg.csv')\n",
    "X_train = pd.read_csv('X_train_reg.csv')\n",
    "y_test_or = pd.read_csv('y_test_reg.csv')\n",
    "y_train_or = pd.read_csv('y_train_reg.csv')\n",
    "\n",
    "# set predictor indices\n",
    "idx_tr = X_train.index\n",
    "idx_te = X_test.index"
   ]
  },
  {
   "cell_type": "code",
   "execution_count": 66,
   "id": "370c44c2",
   "metadata": {},
   "outputs": [],
   "source": [
    "# convert prices to log returns\n",
    "cols = ['P+1','P+7','P+14']\n",
    "y_train = pd.DataFrame({\n",
    "    h: np.log(y_train_or[h].to_numpy() / X_train['P0'].to_numpy())\n",
    "    for h in cols\n",
    "}, index=idx_tr)\n",
    "\n",
    "y_test = pd.DataFrame({\n",
    "    h: np.log(y_test_or[h].to_numpy() / X_test['P0'].to_numpy())\n",
    "    for h in cols\n",
    "}, index=idx_te)"
   ]
  },
  {
   "cell_type": "code",
   "execution_count": 71,
   "id": "980b4365",
   "metadata": {},
   "outputs": [
    {
     "name": "stdout",
     "output_type": "stream",
     "text": [
      "      name      RMSE       MAE        R2 timeframe\n",
      "0   HistGB  0.065371  0.046393  0.013361       P+1\n",
      "1   HistGB  0.118662  0.082453  0.074639       P+7\n",
      "2   HistGB  0.197167  0.121960  0.115558      P+14\n",
      "3    Ridge  0.065727  0.044886  0.002583       P+1\n",
      "4    Ridge  0.119957  0.082501  0.054329       P+7\n",
      "5    Ridge  0.206520  0.116462  0.029654      P+14\n",
      "6  XGBoost  0.067264  0.046912 -0.044596       P+1\n",
      "7  XGBoost  0.118770  0.083388  0.072958       P+7\n",
      "8  XGBoost  0.196567  0.119951  0.120930      P+14\n"
     ]
    }
   ],
   "source": [
    "# define models\n",
    "\n",
    "ridge = Pipeline([\n",
    "    (\"imp\",   SimpleImputer(strategy=\"median\")),\n",
    "    (\"scale\", StandardScaler()),\n",
    "    (\"mdl\",   Ridge(alpha=1.0, random_state=0))\n",
    "])\n",
    "\n",
    "hgb = Pipeline([\n",
    "    (\"imp\", SimpleImputer(strategy=\"median\")),\n",
    "    (\"mdl\", HistGradientBoostingRegressor(\n",
    "        max_depth=4, learning_rate=0.05, max_iter=500, random_state=0))\n",
    "])\n",
    "\n",
    "\n",
    "from xgboost import XGBRegressor\n",
    "xgb = Pipeline([\n",
    "    (\"imp\", SimpleImputer(strategy=\"median\")),\n",
    "    (\"mdl\", XGBRegressor(\n",
    "        objective=\"reg:squarederror\", \n",
    "        tree_method=\"hist\",\n",
    "        n_estimators=2000, \n",
    "        learning_rate=0.03, \n",
    "        max_depth=4,\n",
    "        subsample=0.8, \n",
    "        colsample_bytree=0.8, \n",
    "        reg_alpha=0.0, \n",
    "        reg_lambda=1.0,\n",
    "        random_state=42, \n",
    "        n_jobs=-1))\n",
    "])\n",
    "model_list = [(\"Ridge\", ridge), (\"HistGB\", hgb), (\"XGBoost\", xgb)]\n",
    "\n",
    "# -------------------------------------------------------\n",
    "# 2) Train/evaluate per horizon\n",
    "# -------------------------------------------------------\n",
    "def eval_one(y_tr, y_te, name, est, idx_tr, idx_te):\n",
    "    est.fit(X_train, y_tr.loc[idx_tr])\n",
    "    yhat = est.predict(X_test)\n",
    "    return {\n",
    "        \"name\": name,\n",
    "        \"RMSE\": root_mean_squared_error(y_te.loc[idx_te], yhat),\n",
    "        \"MAE\":  mean_absolute_error(y_te.loc[idx_te], yhat),\n",
    "        \"R2\":   r2_score(y_te.loc[idx_te], yhat)\n",
    "    }, yhat\n",
    "\n",
    "rows, preds_store = [], {}\n",
    "for horizon in ['P+1','P+7','P+14']:\n",
    "    for name, est in model_list:\n",
    "        single_y_train = y_train[horizon]\n",
    "        single_y_test = y_test[horizon]\n",
    "        row, yhat = eval_one(single_y_train, single_y_test, name, est, idx_tr, idx_te)\n",
    "        row[\"timeframe\"] = f'{horizon}'\n",
    "        rows.append(row)\n",
    "\n",
    "        # (optional) predicted **prices** for this horizon\n",
    "        # Phat = P0 * exp(rhat)\n",
    "        preds_store[(name, horizon)] = pd.Series(\n",
    "            X_test.loc[idx_te, 'P0'].to_numpy() * np.exp(yhat),\n",
    "            index=idx_te, name=f'Phat{name}{horizon}'\n",
    "        )\n",
    "\n",
    "results_reg = pd.DataFrame(rows).sort_values([\"timeframe\",\"RMSE\"]).sort_values(['name', 'RMSE']).reset_index(drop=True)\n",
    "print(results_reg)\n",
    "preds_price = pd.concat(preds_store.values(), axis=1)"
   ]
  }
 ],
 "metadata": {
  "kernelspec": {
   "display_name": ".venv (3.13.5)",
   "language": "python",
   "name": "python3"
  },
  "language_info": {
   "codemirror_mode": {
    "name": "ipython",
    "version": 3
   },
   "file_extension": ".py",
   "mimetype": "text/x-python",
   "name": "python",
   "nbconvert_exporter": "python",
   "pygments_lexer": "ipython3",
   "version": "3.13.5"
  }
 },
 "nbformat": 4,
 "nbformat_minor": 5
}
